{
 "cells": [
  {
   "cell_type": "code",
   "execution_count": 1,
   "id": "370cb272",
   "metadata": {},
   "outputs": [
    {
     "name": "stdout",
     "output_type": "stream",
     "text": [
      "Enter the radius: 3\n",
      "Area of the circle is 3.0 is: 28.274333882308138\n"
     ]
    }
   ],
   "source": [
    "#Write a Python program which accepts the radius of a circle from the user and compute the area\n",
    "\n",
    "from math import pi\n",
    "r = float(input (\"Enter the radius: \"))\n",
    "Area = str(pi * r**2);\n",
    "print (\"Area of the circle is \" + str(r) + \" is: \" + Area)"
   ]
  },
  {
   "cell_type": "code",
   "execution_count": 2,
   "id": "d9618886",
   "metadata": {},
   "outputs": [
    {
     "name": "stdout",
     "output_type": "stream",
     "text": [
      "Enter the name:Anisha\n",
      "Enter the roll number:21\n",
      "Enter the mark: 78\n",
      "\n",
      "\n",
      "Name: Anisha\n",
      "Roll No: 21\n",
      "Mark: 78\n"
     ]
    }
   ],
   "source": [
    "#Write a Python Program to accept the details of a student like name, roll number and mark and display it.\n",
    "\n",
    "name=str(input(\"Enter the name:\"))\n",
    "rollno=int(input(\"Enter the roll number:\"))\n",
    "mark=int(input(\"Enter the mark: \"))\n",
    "print('\\n')\n",
    "print(\"Name:\",name)\n",
    "print(\"Roll No:\",rollno)\n",
    "print(\"Mark:\",mark)"
   ]
  },
  {
   "cell_type": "code",
   "execution_count": 3,
   "id": "4a7d4006",
   "metadata": {},
   "outputs": [
    {
     "name": "stdout",
     "output_type": "stream",
     "text": [
      "47 is the largest number\n"
     ]
    }
   ],
   "source": [
    "#Write a Python program to get the largest number from a list\n",
    "\n",
    "def myMax(list1):\n",
    "    max = list1[0]\n",
    "    for x in list1:\n",
    "        if x > max:\n",
    "            max = x\n",
    "    return max\n",
    "list1 = [12, 3, 47, 10]\n",
    "print( myMax(list1),\"is the largest number\")"
   ]
  },
  {
   "cell_type": "code",
   "execution_count": 4,
   "id": "ae9a3f50",
   "metadata": {},
   "outputs": [
    {
     "name": "stdout",
     "output_type": "stream",
     "text": [
      "Current number 1 Previous Number 0 Sum: 1\n",
      "Current number 2 Previous Number 1 Sum: 3\n",
      "Current number 3 Previous Number 2 Sum: 5\n",
      "Current number 4 Previous Number 3 Sum: 7\n",
      "Current number 5 Previous Number 4 Sum: 9\n",
      "Current number 6 Previous Number 5 Sum: 11\n",
      "Current number 7 Previous Number 6 Sum: 13\n",
      "Current number 8 Previous Number 7 Sum: 15\n",
      "Current number 9 Previous Number 8 Sum: 17\n",
      "Current number 10 Previous Number 9 Sum: 19\n"
     ]
    }
   ],
   "source": [
    "#Given a range of first 10 numbers, write a Python program to iterate from start number to the end number and print the sum of the current number and previous number.\n",
    "\n",
    "previousNum = 0\n",
    "for i in range(1,11):\n",
    "    sum = previousNum + i\n",
    "    print('Current number',i,'Previous Number',previousNum,'Sum:' ,previousNum + i)\n",
    "    previousNum = i"
   ]
  },
  {
   "cell_type": "code",
   "execution_count": 5,
   "id": "bbe3dea9",
   "metadata": {},
   "outputs": [
    {
     "name": "stdout",
     "output_type": "stream",
     "text": [
      "10\n",
      "20\n",
      "55\n"
     ]
    }
   ],
   "source": [
    "#Write a Python program to print only those numbers which are divisible  of 5. \n",
    "\n",
    "a = [10,20,33,46,55]\n",
    "x = list(filter( lambda num: num%5==0, a))\n",
    "if x:\n",
    "    for item in x:\n",
    "       print(item)\n",
    "else:\n",
    "    print(\"Not Found\")\n"
   ]
  },
  {
   "cell_type": "code",
   "execution_count": 6,
   "id": "166715c1",
   "metadata": {},
   "outputs": [
    {
     "name": "stdout",
     "output_type": "stream",
     "text": [
      "Enter the number:3\n",
      "3 is a prime number\n"
     ]
    }
   ],
   "source": [
    "#Write a Python program to check whether a number is prime or not. \n",
    "\n",
    "num = int(input(\"Enter the number:\"))\n",
    "# If given number is greater than 1\n",
    "if num > 1:\n",
    "    # Iterate from 2 to n / 2\n",
    "    for i in range(2, int(num/2)+1):\n",
    "        # If num is divisible by any number between\n",
    "        # 2 and n / 2, it is not prime\n",
    "        if (num % i) == 0:\n",
    "            print(num, \"is not a prime number\")\n",
    "            break\n",
    "    else:\n",
    "        print(num, \"is a prime number\")\n",
    "else:\n",
    "    print(num, \"is not a prime number\")"
   ]
  },
  {
   "cell_type": "code",
   "execution_count": 7,
   "id": "0b628c00",
   "metadata": {},
   "outputs": [
    {
     "name": "stdout",
     "output_type": "stream",
     "text": [
      "[70, 30, 40, 10]\n"
     ]
    }
   ],
   "source": [
    "#Write a Python program to reverse a list using for loop.\n",
    "\n",
    "def reverse(list):\n",
    "    for i in range(len(list) - 1, -1, -1):\n",
    "        yield list[i]\n",
    "\n",
    "list1 = [10, 40, 30, 70]\n",
    "newList = list(reverse(list1))\n",
    "\n",
    "print(newList)"
   ]
  },
  {
   "cell_type": "code",
   "execution_count": 8,
   "id": "09a3e571",
   "metadata": {},
   "outputs": [
    {
     "name": "stdout",
     "output_type": "stream",
     "text": [
      "* \r\n",
      "* * \r\n",
      "* * * \r\n",
      "* * * * \r\n"
     ]
    }
   ],
   "source": [
    "#Write a Python program to print the following pattern.\n",
    "\n",
    "def pypart(n):\n",
    "    for i in range(0, n):\n",
    "        for j in range(0, i+1):\n",
    "            print(\"* \",end=\"\")\n",
    "        print(\"\\r\")\n",
    "n = 4\n",
    "pypart(n)\n"
   ]
  },
  {
   "cell_type": "code",
   "execution_count": 9,
   "id": "888175cc",
   "metadata": {},
   "outputs": [
    {
     "name": "stdout",
     "output_type": "stream",
     "text": [
      "enter the first number: 34\n",
      "enter the second number: 12\n",
      "enter the third number: 7\n",
      "[34]\n"
     ]
    }
   ],
   "source": [
    "#Write a Python program to find the maximum of three numbers\n",
    "\n",
    "def maximum(a, b, c):\n",
    "    if (a >= b) and (a >= c):\n",
    "        largest = a\n",
    "    elif (b >= a) and (b >= c):\n",
    "        largest = b\n",
    "    else:\n",
    "        largest = c\n",
    "         \n",
    "    return largest\n",
    "\n",
    "a = [int(input(\"enter the first number: \"))]\n",
    "b = [int(input(\"enter the second number: \"))]\n",
    "c = [int(input(\"enter the third number: \"))]\n",
    "\n",
    "print(maximum (a, b, c))\n"
   ]
  },
  {
   "cell_type": "code",
   "execution_count": 10,
   "id": "ef6b81ab",
   "metadata": {},
   "outputs": [
    {
     "name": "stdout",
     "output_type": "stream",
     "text": [
      "\n",
      "* \n",
      "* * \n",
      "* * * \n",
      "* * * * \n",
      "* * * * * \n",
      "* * * * \n",
      "* * * \n",
      "* * \n",
      "* \n"
     ]
    }
   ],
   "source": [
    "#Write a Python program to construct the following pattern, using a nested for loop.\n",
    "\n",
    "n=5;\n",
    "for i in range(n):\n",
    "    for j in range(i):\n",
    "        print ('* ', end=\"\")\n",
    "    print('')\n",
    "\n",
    "for i in range(n,0,-1):\n",
    "    for j in range(i):\n",
    "        print('* ', end=\"\")\n",
    "    print('')"
   ]
  },
  {
   "cell_type": "code",
   "execution_count": null,
   "id": "1d66aa34",
   "metadata": {},
   "outputs": [],
   "source": []
  }
 ],
 "metadata": {
  "kernelspec": {
   "display_name": "Python 3 (ipykernel)",
   "language": "python",
   "name": "python3"
  },
  "language_info": {
   "codemirror_mode": {
    "name": "ipython",
    "version": 3
   },
   "file_extension": ".py",
   "mimetype": "text/x-python",
   "name": "python",
   "nbconvert_exporter": "python",
   "pygments_lexer": "ipython3",
   "version": "3.11.4"
  }
 },
 "nbformat": 4,
 "nbformat_minor": 5
}
